{
 "cells": [
  {
   "cell_type": "code",
   "execution_count": 1,
   "metadata": {},
   "outputs": [],
   "source": [
    "import gym\n",
    "import numpy as np\n",
    "import matplotlib.pyplot as plt\n",
    "from tqdm.notebook import tqdm\n",
    "\n",
    "import ray\n",
    "from ray.rllib.agents.ppo import PPOTrainer, DEFAULT_CONFIG\n",
    "\n",
    "%matplotlib inline"
   ]
  },
  {
   "cell_type": "code",
   "execution_count": null,
   "metadata": {},
   "outputs": [],
   "source": [
    "# RAY CLUSTER\n",
    "\n",
    "ray.init(ignore_reinit_error=True, log_to_driver=False)\n",
    "# ray.shutdown()"
   ]
  },
  {
   "cell_type": "markdown",
   "metadata": {},
   "source": [
    "## Training"
   ]
  },
  {
   "cell_type": "code",
   "execution_count": 4,
   "metadata": {},
   "outputs": [],
   "source": [
    "# CONFIG\n",
    "\n",
    "config = DEFAULT_CONFIG.copy()\n",
    "config['num_workers'] = 3\n",
    "config['num_sgd_iter'] = 30\n",
    "config['sgd_minibatch_size'] = 128\n",
    "config['model']['fcnet_hiddens'] = [100, 100]\n",
    "# config['use_pytorch'] = True\n",
    "# config['eager'] = True\n",
    "# config['eager_tracing'] = True"
   ]
  },
  {
   "cell_type": "code",
   "execution_count": 5,
   "metadata": {},
   "outputs": [
    {
     "name": "stderr",
     "output_type": "stream",
     "text": [
      "2020-10-31 14:55:09,199\tINFO trainer.py:421 -- Tip: set 'eager': true or the --eager flag to enable TensorFlow eager execution\n",
      "2020-10-31 14:55:09,250\tINFO trainer.py:580 -- Current log_level is WARN. For more information, set 'log_level': 'INFO' / 'DEBUG' or use the -v and -vv flags.\n",
      "2020-10-31 14:55:14,964\tINFO trainable.py:217 -- Getting current IP.\n",
      "2020-10-31 14:55:14,966\tWARNING util.py:37 -- Install gputil for GPU system monitoring.\n"
     ]
    }
   ],
   "source": [
    "# TRAINER / AGENT\n",
    "agent = PPOTrainer(config , 'CartPole-v0')"
   ]
  },
  {
   "cell_type": "code",
   "execution_count": 6,
   "metadata": {},
   "outputs": [
    {
     "data": {
      "application/vnd.jupyter.widget-view+json": {
       "model_id": "e4d1013953354503a601d2c5ce3b7aab",
       "version_major": 2,
       "version_minor": 0
      },
      "text/plain": [
       "HBox(children=(HTML(value=''), FloatProgress(value=0.0, max=10.0), HTML(value='')))"
      ]
     },
     "metadata": {},
     "output_type": "display_data"
    },
    {
     "name": "stdout",
     "output_type": "stream",
     "text": [
      "MAX REWARD 54.0 \t MEAN REWARD 22.52 \t MEAN_LEN 22.52\n",
      "MAX REWARD 138.0 \t MEAN REWARD 40.55 \t MEAN_LEN 40.55\n",
      "MAX REWARD 200.0 \t MEAN REWARD 62.08 \t MEAN_LEN 62.08\n",
      "MAX REWARD 200.0 \t MEAN REWARD 92.05 \t MEAN_LEN 92.05\n",
      "MAX REWARD 200.0 \t MEAN REWARD 118.65 \t MEAN_LEN 118.65\n",
      "MAX REWARD 200.0 \t MEAN REWARD 141.3 \t MEAN_LEN 141.3\n",
      "MAX REWARD 200.0 \t MEAN REWARD 166.18 \t MEAN_LEN 166.18\n",
      "MAX REWARD 200.0 \t MEAN REWARD 181.39 \t MEAN_LEN 181.39\n",
      "MAX REWARD 200.0 \t MEAN REWARD 193.54 \t MEAN_LEN 193.54\n",
      "MAX REWARD 200.0 \t MEAN REWARD 190.78 \t MEAN_LEN 190.78\n",
      "\n"
     ]
    }
   ],
   "source": [
    "# TRAIN LOOP\n",
    "\n",
    "NUM_EPISODES = 10\n",
    "results = []\n",
    "episode_data = []\n",
    "\n",
    "for epoch in tqdm(range(NUM_EPISODES)):\n",
    "    result = agent.train()\n",
    "    results.append(result)\n",
    "    \n",
    "    print(f\"MAX REWARD {result['episode_reward_max']} \\t MEAN REWARD {round(result['episode_reward_mean'], 2)} \\t MEAN_LEN {round(result['episode_len_mean'], 2)}\")"
   ]
  },
  {
   "cell_type": "code",
   "execution_count": 7,
   "metadata": {},
   "outputs": [
    {
     "data": {
      "text/plain": [
       "'./checkpoints/checkpoint_10/checkpoint-10'"
      ]
     },
     "execution_count": 7,
     "metadata": {},
     "output_type": "execute_result"
    }
   ],
   "source": [
    "CKPT_PATH = agent.save(\"./checkpoints/\")\n",
    "CKPT_PATH"
   ]
  },
  {
   "cell_type": "markdown",
   "metadata": {},
   "source": [
    "## Results"
   ]
  },
  {
   "cell_type": "code",
   "execution_count": 8,
   "metadata": {
    "scrolled": true
   },
   "outputs": [
    {
     "data": {
      "text/plain": [
       "{'episode_reward_max': 200.0,\n",
       " 'episode_reward_min': 14.0,\n",
       " 'episode_reward_mean': 190.78,\n",
       " 'episode_len_mean': 190.78,\n",
       " 'episodes_this_iter': 22,\n",
       " 'policy_reward_min': {},\n",
       " 'policy_reward_max': {},\n",
       " 'policy_reward_mean': {},\n",
       " 'custom_metrics': {},\n",
       " 'hist_stats': {'episode_reward': [198.0,\n",
       "   197.0,\n",
       "   179.0,\n",
       "   149.0,\n",
       "   200.0,\n",
       "   114.0,\n",
       "   200.0,\n",
       "   200.0,\n",
       "   185.0,\n",
       "   164.0,\n",
       "   14.0,\n",
       "   188.0,\n",
       "   198.0,\n",
       "   165.0,\n",
       "   200.0,\n",
       "   200.0,\n",
       "   192.0,\n",
       "   200.0,\n",
       "   200.0,\n",
       "   200.0,\n",
       "   158.0,\n",
       "   198.0,\n",
       "   57.0,\n",
       "   200.0,\n",
       "   166.0,\n",
       "   200.0,\n",
       "   200.0,\n",
       "   200.0,\n",
       "   175.0,\n",
       "   200.0,\n",
       "   149.0,\n",
       "   200.0,\n",
       "   200.0,\n",
       "   200.0,\n",
       "   200.0,\n",
       "   200.0,\n",
       "   200.0,\n",
       "   200.0,\n",
       "   200.0,\n",
       "   200.0,\n",
       "   200.0,\n",
       "   200.0,\n",
       "   200.0,\n",
       "   200.0,\n",
       "   200.0,\n",
       "   200.0,\n",
       "   200.0,\n",
       "   200.0,\n",
       "   190.0,\n",
       "   200.0,\n",
       "   200.0,\n",
       "   199.0,\n",
       "   200.0,\n",
       "   200.0,\n",
       "   200.0,\n",
       "   200.0,\n",
       "   200.0,\n",
       "   200.0,\n",
       "   200.0,\n",
       "   200.0,\n",
       "   194.0,\n",
       "   162.0,\n",
       "   200.0,\n",
       "   200.0,\n",
       "   200.0,\n",
       "   200.0,\n",
       "   182.0,\n",
       "   200.0,\n",
       "   200.0,\n",
       "   187.0,\n",
       "   200.0,\n",
       "   200.0,\n",
       "   200.0,\n",
       "   200.0,\n",
       "   200.0,\n",
       "   200.0,\n",
       "   200.0,\n",
       "   200.0,\n",
       "   193.0,\n",
       "   200.0,\n",
       "   200.0,\n",
       "   141.0,\n",
       "   200.0,\n",
       "   200.0,\n",
       "   200.0,\n",
       "   200.0,\n",
       "   200.0,\n",
       "   200.0,\n",
       "   200.0,\n",
       "   200.0,\n",
       "   200.0,\n",
       "   200.0,\n",
       "   200.0,\n",
       "   200.0,\n",
       "   200.0,\n",
       "   200.0,\n",
       "   200.0,\n",
       "   200.0,\n",
       "   184.0,\n",
       "   200.0],\n",
       "  'episode_lengths': [198,\n",
       "   197,\n",
       "   179,\n",
       "   149,\n",
       "   200,\n",
       "   114,\n",
       "   200,\n",
       "   200,\n",
       "   185,\n",
       "   164,\n",
       "   14,\n",
       "   188,\n",
       "   198,\n",
       "   165,\n",
       "   200,\n",
       "   200,\n",
       "   192,\n",
       "   200,\n",
       "   200,\n",
       "   200,\n",
       "   158,\n",
       "   198,\n",
       "   57,\n",
       "   200,\n",
       "   166,\n",
       "   200,\n",
       "   200,\n",
       "   200,\n",
       "   175,\n",
       "   200,\n",
       "   149,\n",
       "   200,\n",
       "   200,\n",
       "   200,\n",
       "   200,\n",
       "   200,\n",
       "   200,\n",
       "   200,\n",
       "   200,\n",
       "   200,\n",
       "   200,\n",
       "   200,\n",
       "   200,\n",
       "   200,\n",
       "   200,\n",
       "   200,\n",
       "   200,\n",
       "   200,\n",
       "   190,\n",
       "   200,\n",
       "   200,\n",
       "   199,\n",
       "   200,\n",
       "   200,\n",
       "   200,\n",
       "   200,\n",
       "   200,\n",
       "   200,\n",
       "   200,\n",
       "   200,\n",
       "   194,\n",
       "   162,\n",
       "   200,\n",
       "   200,\n",
       "   200,\n",
       "   200,\n",
       "   182,\n",
       "   200,\n",
       "   200,\n",
       "   187,\n",
       "   200,\n",
       "   200,\n",
       "   200,\n",
       "   200,\n",
       "   200,\n",
       "   200,\n",
       "   200,\n",
       "   200,\n",
       "   193,\n",
       "   200,\n",
       "   200,\n",
       "   141,\n",
       "   200,\n",
       "   200,\n",
       "   200,\n",
       "   200,\n",
       "   200,\n",
       "   200,\n",
       "   200,\n",
       "   200,\n",
       "   200,\n",
       "   200,\n",
       "   200,\n",
       "   200,\n",
       "   200,\n",
       "   200,\n",
       "   200,\n",
       "   200,\n",
       "   184,\n",
       "   200]},\n",
       " 'sampler_perf': {'mean_env_wait_ms': 0.14408267105039582,\n",
       "  'mean_processing_ms': 0.32080363223846853,\n",
       "  'mean_inference_ms': 1.624035307794403},\n",
       " 'off_policy_estimator': {},\n",
       " 'info': {'num_steps_trained': 39680,\n",
       "  'num_steps_sampled': 40000,\n",
       "  'sample_time_ms': 2869.559,\n",
       "  'load_time_ms': 6.137,\n",
       "  'grad_time_ms': 2189.649,\n",
       "  'update_time_ms': 53.148,\n",
       "  'learner': {'default_policy': {'cur_kl_coeff': 0.01875000074505806,\n",
       "    'cur_lr': 4.999999873689376e-05,\n",
       "    'total_loss': 429.797,\n",
       "    'policy_loss': -0.00818838,\n",
       "    'vf_loss': 429.8051,\n",
       "    'vf_explained_var': 0.34164888,\n",
       "    'kl': 0.006518622,\n",
       "    'entropy': 0.553291,\n",
       "    'entropy_coeff': 0.0,\n",
       "    'model': {}}}},\n",
       " 'optimizer_steps_this_iter': 1,\n",
       " 'timesteps_this_iter': 4000,\n",
       " 'done': False,\n",
       " 'timesteps_total': 40000,\n",
       " 'episodes_total': 474,\n",
       " 'training_iteration': 10,\n",
       " 'experiment_id': '5fe1f81802d94e20a2b6a648399816f4',\n",
       " 'date': '2020-10-31_14-57-03',\n",
       " 'timestamp': 1604136423,\n",
       " 'time_this_iter_s': 4.630540132522583,\n",
       " 'time_total_s': 51.271079778671265,\n",
       " 'pid': 2954,\n",
       " 'hostname': 'Nimishs-MacBook-Air.local',\n",
       " 'node_ip': '192.168.0.100',\n",
       " 'config': {'num_workers': 3,\n",
       "  'num_envs_per_worker': 1,\n",
       "  'rollout_fragment_length': 200,\n",
       "  'sample_batch_size': -1,\n",
       "  'batch_mode': 'truncate_episodes',\n",
       "  'num_gpus': 0,\n",
       "  'train_batch_size': 4000,\n",
       "  'model': {'conv_filters': None,\n",
       "   'conv_activation': 'relu',\n",
       "   'fcnet_activation': 'tanh',\n",
       "   'fcnet_hiddens': [100, 100],\n",
       "   'free_log_std': False,\n",
       "   'no_final_linear': False,\n",
       "   'vf_share_layers': True,\n",
       "   'use_lstm': False,\n",
       "   'max_seq_len': 20,\n",
       "   'lstm_cell_size': 256,\n",
       "   'lstm_use_prev_action_reward': False,\n",
       "   'state_shape': None,\n",
       "   'framestack': True,\n",
       "   'dim': 84,\n",
       "   'grayscale': False,\n",
       "   'zero_mean': True,\n",
       "   'custom_model': None,\n",
       "   'custom_action_dist': None,\n",
       "   'custom_options': {},\n",
       "   'custom_preprocessor': None},\n",
       "  'optimizer': {},\n",
       "  'gamma': 0.99,\n",
       "  'horizon': None,\n",
       "  'soft_horizon': False,\n",
       "  'no_done_at_end': False,\n",
       "  'env_config': {},\n",
       "  'env': 'CartPole-v0',\n",
       "  'normalize_actions': False,\n",
       "  'clip_rewards': None,\n",
       "  'clip_actions': True,\n",
       "  'preprocessor_pref': 'deepmind',\n",
       "  'lr': 5e-05,\n",
       "  'monitor': False,\n",
       "  'log_level': 'WARN',\n",
       "  'callbacks': ray.rllib.agents.callbacks.DefaultCallbacks,\n",
       "  'ignore_worker_failures': False,\n",
       "  'log_sys_usage': True,\n",
       "  'use_pytorch': False,\n",
       "  'eager': False,\n",
       "  'eager_tracing': False,\n",
       "  'no_eager_on_workers': False,\n",
       "  'explore': True,\n",
       "  'exploration_config': {'type': 'StochasticSampling'},\n",
       "  'evaluation_interval': None,\n",
       "  'evaluation_num_episodes': 10,\n",
       "  'in_evaluation': False,\n",
       "  'evaluation_config': {},\n",
       "  'evaluation_num_workers': 0,\n",
       "  'custom_eval_function': None,\n",
       "  'use_exec_api': False,\n",
       "  'sample_async': False,\n",
       "  'observation_filter': 'NoFilter',\n",
       "  'synchronize_filters': True,\n",
       "  'tf_session_args': {'intra_op_parallelism_threads': 2,\n",
       "   'inter_op_parallelism_threads': 2,\n",
       "   'gpu_options': {'allow_growth': True},\n",
       "   'log_device_placement': False,\n",
       "   'device_count': {'CPU': 1},\n",
       "   'allow_soft_placement': True},\n",
       "  'local_tf_session_args': {'intra_op_parallelism_threads': 8,\n",
       "   'inter_op_parallelism_threads': 8},\n",
       "  'compress_observations': False,\n",
       "  'collect_metrics_timeout': 180,\n",
       "  'metrics_smoothing_episodes': 100,\n",
       "  'remote_worker_envs': False,\n",
       "  'remote_env_batch_wait_ms': 0,\n",
       "  'min_iter_time_s': 0,\n",
       "  'timesteps_per_iteration': 0,\n",
       "  'seed': None,\n",
       "  'extra_python_environs_for_driver': {},\n",
       "  'extra_python_environs_for_worker': {},\n",
       "  'num_cpus_per_worker': 1,\n",
       "  'num_gpus_per_worker': 0,\n",
       "  'custom_resources_per_worker': {},\n",
       "  'num_cpus_for_driver': 1,\n",
       "  'memory': 0,\n",
       "  'object_store_memory': 0,\n",
       "  'memory_per_worker': 0,\n",
       "  'object_store_memory_per_worker': 0,\n",
       "  'input': 'sampler',\n",
       "  'input_evaluation': ['is', 'wis'],\n",
       "  'postprocess_inputs': False,\n",
       "  'shuffle_buffer_size': 0,\n",
       "  'output': None,\n",
       "  'output_compress_columns': ['obs', 'new_obs'],\n",
       "  'output_max_file_size': 67108864,\n",
       "  'multiagent': {'policies': {},\n",
       "   'policy_mapping_fn': None,\n",
       "   'policies_to_train': None},\n",
       "  'use_critic': True,\n",
       "  'use_gae': True,\n",
       "  'lambda': 1.0,\n",
       "  'kl_coeff': 0.2,\n",
       "  'sgd_minibatch_size': 128,\n",
       "  'shuffle_sequences': True,\n",
       "  'num_sgd_iter': 30,\n",
       "  'lr_schedule': None,\n",
       "  'vf_share_layers': False,\n",
       "  'vf_loss_coeff': 1.0,\n",
       "  'entropy_coeff': 0.0,\n",
       "  'entropy_coeff_schedule': None,\n",
       "  'clip_param': 0.3,\n",
       "  'vf_clip_param': 10.0,\n",
       "  'grad_clip': None,\n",
       "  'kl_target': 0.01,\n",
       "  'simple_optimizer': False,\n",
       "  '_fake_gpus': False},\n",
       " 'time_since_restore': 51.271079778671265,\n",
       " 'timesteps_since_restore': 40000,\n",
       " 'iterations_since_restore': 10,\n",
       " 'perf': {'cpu_util_percent': 76.46666666666667,\n",
       "  'ram_util_percent': 59.49999999999999},\n",
       " 'num_healthy_workers': 3}"
      ]
     },
     "execution_count": 8,
     "metadata": {},
     "output_type": "execute_result"
    }
   ],
   "source": [
    "results[-1]"
   ]
  },
  {
   "cell_type": "code",
   "execution_count": 9,
   "metadata": {},
   "outputs": [],
   "source": [
    "episode_rewards = []\n",
    "for result in results:\n",
    "    episode_rewards.extend(result['hist_stats']['episode_reward'])\n",
    "\n",
    "mean_rewards = []\n",
    "for i in range(len(episode_rewards)):\n",
    "    mean_rewards.append(np.mean(episode_rewards[np.clip(i-100,0,None) : i+1]))"
   ]
  },
  {
   "cell_type": "code",
   "execution_count": 10,
   "metadata": {},
   "outputs": [
    {
     "data": {
      "text/plain": [
       "[<matplotlib.lines.Line2D at 0x1a30d00d0>]"
      ]
     },
     "execution_count": 10,
     "metadata": {},
     "output_type": "execute_result"
    },
    {
     "data": {
      "image/png": "[encoded data removed]",
      "text/plain": [
       "<Figure size 432x288 with 1 Axes>"
      ]
     },
     "metadata": {
      "needs_background": "light"
     },
     "output_type": "display_data"
    }
   ],
   "source": [
    "plt.plot(mean_rewards)"
   ]
  },
  {
   "cell_type": "markdown",
   "metadata": {},
   "source": [
    "## Testing"
   ]
  },
  {
   "cell_type": "code",
   "execution_count": 11,
   "metadata": {},
   "outputs": [
    {
     "name": "stderr",
     "output_type": "stream",
     "text": [
      "2020-10-31 14:57:32,919\tINFO trainable.py:217 -- Getting current IP.\n",
      "2020-10-31 14:57:32,921\tWARNING util.py:37 -- Install gputil for GPU system monitoring.\n"
     ]
    }
   ],
   "source": [
    "test_config = config.copy()\n",
    "test_agent = PPOTrainer(test_config, 'CartPole-v0')"
   ]
  },
  {
   "cell_type": "code",
   "execution_count": 12,
   "metadata": {},
   "outputs": [
    {
     "name": "stderr",
     "output_type": "stream",
     "text": [
      "2020-10-31 14:57:37,725\tINFO trainable.py:217 -- Getting current IP.\n",
      "2020-10-31 14:57:37,726\tINFO trainable.py:423 -- Restored on 192.168.0.100 from checkpoint: ./checkpoints/checkpoint_10/checkpoint-10\n",
      "2020-10-31 14:57:37,732\tINFO trainable.py:430 -- Current state after restoring: {'_iteration': 10, '_timesteps_total': 40000, '_time_total': 51.271079778671265, '_episodes_total': 474}\n"
     ]
    }
   ],
   "source": [
    "# LOAD SAVED CHECKPOINT\n",
    "test_agent.restore(CKPT_PATH)"
   ]
  },
  {
   "cell_type": "code",
   "execution_count": 14,
   "metadata": {},
   "outputs": [
    {
     "name": "stdout",
     "output_type": "stream",
     "text": [
      "RWD:  200.0 \t LEN:  200\n"
     ]
    }
   ],
   "source": [
    "env = gym.make('CartPole-v0')\n",
    "\n",
    "total_reward, total_moves = 0,0\n",
    "done = False\n",
    "observation = env.reset()\n",
    "\n",
    "while not done:\n",
    "    action = agent.compute_action(observation)\n",
    "    observation_, reward, done, _ = env.step(action)\n",
    "    \n",
    "    total_reward += reward\n",
    "    total_moves += 1\n",
    "    \n",
    "    observation = observation_\n",
    "\n",
    "print(\"RWD: \",total_reward,\"\\t LEN: \",total_moves)"
   ]
  }
 ],
 "metadata": {
  "kernelspec": {
   "display_name": "reinforcement-learning-rllib",
   "language": "python",
   "name": "reinforcement-learning-rllib"
  },
  "language_info": {
   "codemirror_mode": {
    "name": "ipython",
    "version": 3
   },
   "file_extension": ".py",
   "mimetype": "text/x-python",
   "name": "python",
   "nbconvert_exporter": "python",
   "pygments_lexer": "ipython3",
   "version": "3.7.9"
  }
 },
 "nbformat": 4,
 "nbformat_minor": 4
}
